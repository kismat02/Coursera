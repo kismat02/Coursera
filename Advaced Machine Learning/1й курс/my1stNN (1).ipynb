{
 "cells": [
  {
   "cell_type": "code",
   "execution_count": 1,
   "metadata": {},
   "outputs": [
    {
     "name": "stderr",
     "output_type": "stream",
     "text": [
      "Using TensorFlow backend.\n"
     ]
    },
    {
     "name": "stdout",
     "output_type": "stream",
     "text": [
      "Downloading data from https://s3.amazonaws.com/img-datasets/mnist.npz\n",
      " 9453568/11490434 [=======================>......] - ETA: 0s(50000, 28, 28) (50000,)\n"
     ]
    },
    {
     "data": {
      "image/png": "[encoded data removed]",
      "text/plain": [
       "<matplotlib.figure.Figure at 0x7f6c9aae7f28>"
      ]
     },
     "metadata": {},
     "output_type": "display_data"
    }
   ],
   "source": [
    "from preprocessed_mnist import load_dataset\n",
    "X_train, y_train, X_val, y_val, X_test, y_test = load_dataset()\n",
    "print(X_train.shape, y_train.shape)\n",
    "import matplotlib.pyplot as plt\n",
    "%matplotlib inline\n",
    "plt.imshow(X_train[0], cmap=\"Greys\");"
   ]
  },
  {
   "cell_type": "code",
   "execution_count": 2,
   "metadata": {
    "collapsed": true
   },
   "outputs": [],
   "source": [
    "import numpy as np\n",
    "import tensorflow as tf\n",
    "import time"
   ]
  },
  {
   "cell_type": "markdown",
   "metadata": {},
   "source": [
    "# Flatten the graphs\n",
    "Converting each 28x28 pixel graph into a single array with 784 elements  \n",
    "Converting the label array to one-hot"
   ]
  },
  {
   "cell_type": "code",
   "execution_count": 3,
   "metadata": {
    "collapsed": true
   },
   "outputs": [],
   "source": [
    "def convert_to_base(y):\n",
    "    y_base = np.zeros((y.shape[0],10))\n",
    "    for i in range(y.shape[0]):\n",
    "        y_base[i,y[i]] = 1.0\n",
    "    return y_base"
   ]
  },
  {
   "cell_type": "code",
   "execution_count": 4,
   "metadata": {
    "collapsed": true
   },
   "outputs": [],
   "source": [
    "X_train = np.reshape(X_train, (X_train.shape[0], -1))\n",
    "X_val = np.reshape(X_val, (X_val.shape[0], -1))\n",
    "X_test = np.reshape(X_test, (X_test.shape[0], -1))\n",
    "\n",
    "y_train_base = convert_to_base(y_train)\n",
    "y_val_base = convert_to_base(y_val)\n",
    "y_test_base = convert_to_base(y_test)"
   ]
  },
  {
   "cell_type": "markdown",
   "metadata": {},
   "source": [
    "# Setting up neural network\n",
    "Input layer: 784 neurons  \n",
    "1 hidden layer: 100 neurons  \n",
    "Output layer: 10 neurons"
   ]
  },
  {
   "cell_type": "code",
   "execution_count": 5,
   "metadata": {
    "collapsed": true
   },
   "outputs": [],
   "source": [
    "mini_batch = 10\n",
    "num_iterations = 40000\n",
    "num_diagnostic = 200\n",
    "num_neurons = [784, 100, 10]\n",
    "num_total_layers = len(num_neurons)\n",
    "\n",
    "X_subset = tf.placeholder(dtype = 'float32', name = 'X_subset', shape=[None, 784])\n",
    "y_subset = tf.placeholder(dtype = 'float32', name = 'y_subset', shape=[None, 10])\n",
    "X_eval = tf.placeholder(dtype = 'float32', name = 'X_eval', shape=[None, 784])\n",
    "y_eval = tf.placeholder(dtype = 'float32', name = 'y_eval', shape=[None, 10])\n",
    "\n",
    "weights = []\n",
    "biases = []\n",
    "for i in range(num_total_layers-1):\n",
    "    weights.append(tf.Variable(tf.truncated_normal([num_neurons[i], num_neurons[i+1]], stddev = 0.1), trainable=True))\n",
    "    biases.append(tf.Variable(tf.truncated_normal([num_neurons[i+1]], stddev = 0.1), trainable=True))\n"
   ]
  },
  {
   "cell_type": "markdown",
   "metadata": {},
   "source": [
    "# Training the network  \n",
    "NN_output: Given input x of the training set, return the network output  \n",
    "NN_loss: calculate the cross entropy loss between output and true label  \n",
    "Get_accuracy: Calculate the accuracy on the test set"
   ]
  },
  {
   "cell_type": "code",
   "execution_count": 6,
   "metadata": {
    "collapsed": true
   },
   "outputs": [],
   "source": [
    "def NN_output(x):\n",
    "    layer_out = x\n",
    "    for i in range(num_total_layers-1):\n",
    "        layer_out = tf.add(tf.matmul(layer_out, weights[i]), biases[i])\n",
    "        layer_out = tf.nn.sigmoid(layer_out)\n",
    "    \n",
    "    return layer_out"
   ]
  },
  {
   "cell_type": "code",
   "execution_count": 7,
   "metadata": {
    "collapsed": true
   },
   "outputs": [],
   "source": [
    "def NN_loss(x, y):\n",
    "    y_output = NN_output(x)\n",
    "    loss = tf.reduce_mean(tf.nn.softmax_cross_entropy_with_logits(logits=y_output, labels=y))\n",
    "    return loss"
   ]
  },
  {
   "cell_type": "code",
   "execution_count": 8,
   "metadata": {
    "collapsed": true
   },
   "outputs": [],
   "source": [
    "def Get_accuracy(x,y):\n",
    "    corr_pred = tf.equal(tf.argmax(NN_output(x),1), tf.argmax(y,1))\n",
    "    accuracy = tf.reduce_mean(tf.cast(corr_pred, tf.float32))\n",
    "    return accuracy"
   ]
  },
  {
   "cell_type": "code",
   "execution_count": 9,
   "metadata": {
    "collapsed": true
   },
   "outputs": [],
   "source": [
    "# set up the tensorflow variable for training and evaluation\n",
    "loss_NN = NN_loss(X_subset,y_subset)\n",
    "train_NN = tf.train.GradientDescentOptimizer(0.5).minimize(loss_NN)\n",
    "eval_NN = Get_accuracy(X_eval, y_eval)"
   ]
  },
  {
   "cell_type": "code",
   "execution_count": 10,
   "metadata": {},
   "outputs": [
    {
     "name": "stdout",
     "output_type": "stream",
     "text": [
      "iteration step  0 , the accuracy is  0.0891 train loss is 2.30874 , test loss is  2.30951\n",
      "iteration step  200 , the accuracy is  0.7099 train loss is 1.87719 , test loss is  1.86947\n",
      "iteration step  400 , the accuracy is  0.7938 train loss is 1.74906 , test loss is  1.7416\n",
      "iteration step  600 , the accuracy is  0.8425 train loss is 1.69824 , test loss is  1.69051\n",
      "iteration step  800 , the accuracy is  0.8619 train loss is 1.66642 , test loss is  1.65847\n",
      "iteration step  1000 , the accuracy is  0.8735 train loss is 1.64483 , test loss is  1.63747\n",
      "iteration step  1200 , the accuracy is  0.8856 train loss is 1.62951 , test loss is  1.62164\n",
      "iteration step  1400 , the accuracy is  0.8905 train loss is 1.61919 , test loss is  1.61162\n",
      "iteration step  1600 , the accuracy is  0.8932 train loss is 1.60949 , test loss is  1.60185\n",
      "iteration step  1800 , the accuracy is  0.8939 train loss is 1.60281 , test loss is  1.59612\n",
      "iteration step  2000 , the accuracy is  0.8991 train loss is 1.59551 , test loss is  1.58895\n",
      "iteration step  2200 , the accuracy is  0.9043 train loss is 1.58821 , test loss is  1.58219\n",
      "iteration step  2400 , the accuracy is  0.9036 train loss is 1.5833 , test loss is  1.57765\n",
      "iteration step  2600 , the accuracy is  0.9039 train loss is 1.5808 , test loss is  1.57533\n",
      "iteration step  2800 , the accuracy is  0.9062 train loss is 1.57618 , test loss is  1.57113\n",
      "iteration step  3000 , the accuracy is  0.9103 train loss is 1.57241 , test loss is  1.56732\n",
      "iteration step  3200 , the accuracy is  0.9071 train loss is 1.57226 , test loss is  1.56757\n",
      "iteration step  3400 , the accuracy is  0.9126 train loss is 1.56881 , test loss is  1.56395\n",
      "iteration step  3600 , the accuracy is  0.9109 train loss is 1.56712 , test loss is  1.5613\n",
      "iteration step  3800 , the accuracy is  0.9161 train loss is 1.56287 , test loss is  1.55812\n",
      "iteration step  4000 , the accuracy is  0.916 train loss is 1.56087 , test loss is  1.55611\n",
      "iteration step  4200 , the accuracy is  0.9152 train loss is 1.55945 , test loss is  1.55512\n",
      "iteration step  4400 , the accuracy is  0.9174 train loss is 1.55763 , test loss is  1.55385\n",
      "iteration step  4600 , the accuracy is  0.9157 train loss is 1.55708 , test loss is  1.5539\n",
      "iteration step  4800 , the accuracy is  0.919 train loss is 1.55451 , test loss is  1.55026\n",
      "iteration step  5000 , the accuracy is  0.9184 train loss is 1.55208 , test loss is  1.54839\n",
      "iteration step  5200 , the accuracy is  0.9162 train loss is 1.55509 , test loss is  1.55114\n",
      "iteration step  5400 , the accuracy is  0.9208 train loss is 1.55075 , test loss is  1.54746\n",
      "iteration step  5600 , the accuracy is  0.9188 train loss is 1.55057 , test loss is  1.54744\n",
      "iteration step  5800 , the accuracy is  0.9226 train loss is 1.54841 , test loss is  1.54511\n",
      "iteration step  6000 , the accuracy is  0.9238 train loss is 1.54664 , test loss is  1.54297\n",
      "iteration step  6200 , the accuracy is  0.9247 train loss is 1.54529 , test loss is  1.54215\n",
      "iteration step  6400 , the accuracy is  0.9267 train loss is 1.54459 , test loss is  1.54142\n",
      "iteration step  6600 , the accuracy is  0.9247 train loss is 1.54411 , test loss is  1.54136\n",
      "iteration step  6800 , the accuracy is  0.9255 train loss is 1.54524 , test loss is  1.54202\n",
      "iteration step  7000 , the accuracy is  0.9274 train loss is 1.5416 , test loss is  1.53949\n",
      "iteration step  7200 , the accuracy is  0.925 train loss is 1.54198 , test loss is  1.53948\n",
      "iteration step  7400 , the accuracy is  0.9269 train loss is 1.54038 , test loss is  1.53791\n",
      "iteration step  7600 , the accuracy is  0.9272 train loss is 1.54048 , test loss is  1.53838\n",
      "iteration step  7800 , the accuracy is  0.9279 train loss is 1.5389 , test loss is  1.53684\n",
      "iteration step  8000 , the accuracy is  0.9281 train loss is 1.53731 , test loss is  1.53572\n",
      "iteration step  8200 , the accuracy is  0.9286 train loss is 1.53672 , test loss is  1.53517\n",
      "iteration step  8400 , the accuracy is  0.9283 train loss is 1.53642 , test loss is  1.53519\n",
      "iteration step  8600 , the accuracy is  0.9295 train loss is 1.5349 , test loss is  1.53401\n",
      "iteration step  8800 , the accuracy is  0.9263 train loss is 1.53843 , test loss is  1.53711\n",
      "iteration step  9000 , the accuracy is  0.9303 train loss is 1.53407 , test loss is  1.53312\n",
      "iteration step  9200 , the accuracy is  0.9296 train loss is 1.53338 , test loss is  1.53232\n",
      "iteration step  9400 , the accuracy is  0.9317 train loss is 1.53219 , test loss is  1.531\n",
      "iteration step  9600 , the accuracy is  0.932 train loss is 1.53178 , test loss is  1.5311\n",
      "iteration step  9800 , the accuracy is  0.9307 train loss is 1.53318 , test loss is  1.5323\n",
      "iteration step  10000 , the accuracy is  0.932 train loss is 1.5314 , test loss is  1.53065\n",
      "iteration step  10200 , the accuracy is  0.9342 train loss is 1.5298 , test loss is  1.52894\n",
      "iteration step  10400 , the accuracy is  0.9345 train loss is 1.5299 , test loss is  1.52929\n",
      "iteration step  10600 , the accuracy is  0.9338 train loss is 1.52936 , test loss is  1.52908\n",
      "iteration step  10800 , the accuracy is  0.9337 train loss is 1.52977 , test loss is  1.52903\n",
      "iteration step  11000 , the accuracy is  0.9341 train loss is 1.52881 , test loss is  1.52816\n",
      "iteration step  11200 , the accuracy is  0.9357 train loss is 1.52713 , test loss is  1.52685\n",
      "iteration step  11400 , the accuracy is  0.9359 train loss is 1.52709 , test loss is  1.52656\n",
      "iteration step  11600 , the accuracy is  0.9348 train loss is 1.52747 , test loss is  1.52678\n",
      "iteration step  11800 , the accuracy is  0.9376 train loss is 1.52553 , test loss is  1.52533\n",
      "iteration step  12000 , the accuracy is  0.9382 train loss is 1.52495 , test loss is  1.52491\n",
      "iteration step  12200 , the accuracy is  0.9372 train loss is 1.52442 , test loss is  1.52457\n",
      "iteration step  12400 , the accuracy is  0.9382 train loss is 1.52498 , test loss is  1.52519\n",
      "iteration step  12600 , the accuracy is  0.9382 train loss is 1.52443 , test loss is  1.5247\n",
      "iteration step  12800 , the accuracy is  0.9386 train loss is 1.52331 , test loss is  1.52311\n",
      "iteration step  13000 , the accuracy is  0.9393 train loss is 1.52304 , test loss is  1.52293\n",
      "iteration step  13200 , the accuracy is  0.938 train loss is 1.52384 , test loss is  1.52405\n",
      "iteration step  13400 , the accuracy is  0.9397 train loss is 1.52222 , test loss is  1.52285\n",
      "iteration step  13600 , the accuracy is  0.9396 train loss is 1.52199 , test loss is  1.52246\n",
      "iteration step  13800 , the accuracy is  0.9399 train loss is 1.52257 , test loss is  1.52257\n",
      "iteration step  14000 , the accuracy is  0.9406 train loss is 1.52066 , test loss is  1.52123\n",
      "iteration step  14200 , the accuracy is  0.9386 train loss is 1.52092 , test loss is  1.52148\n",
      "iteration step  14400 , the accuracy is  0.9385 train loss is 1.52054 , test loss is  1.52121\n",
      "iteration step  14600 , the accuracy is  0.9376 train loss is 1.52129 , test loss is  1.52196\n",
      "iteration step  14800 , the accuracy is  0.941 train loss is 1.51943 , test loss is  1.52023\n",
      "iteration step  15000 , the accuracy is  0.94 train loss is 1.52018 , test loss is  1.52097\n",
      "iteration step  15200 , the accuracy is  0.9415 train loss is 1.51954 , test loss is  1.52011\n",
      "iteration step  15400 , the accuracy is  0.9401 train loss is 1.51942 , test loss is  1.5205\n",
      "iteration step  15600 , the accuracy is  0.9417 train loss is 1.51912 , test loss is  1.51951\n",
      "iteration step  15800 , the accuracy is  0.9424 train loss is 1.51838 , test loss is  1.51915\n",
      "iteration step  16000 , the accuracy is  0.9424 train loss is 1.51794 , test loss is  1.51881\n",
      "iteration step  16200 , the accuracy is  0.9419 train loss is 1.51798 , test loss is  1.51838\n",
      "iteration step  16400 , the accuracy is  0.9411 train loss is 1.51794 , test loss is  1.51883\n",
      "iteration step  16600 , the accuracy is  0.9434 train loss is 1.51665 , test loss is  1.51765\n",
      "iteration step  16800 , the accuracy is  0.9444 train loss is 1.51613 , test loss is  1.517\n",
      "iteration step  17000 , the accuracy is  0.9435 train loss is 1.51686 , test loss is  1.51731\n",
      "iteration step  17200 , the accuracy is  0.9447 train loss is 1.51609 , test loss is  1.51704\n",
      "iteration step  17400 , the accuracy is  0.9441 train loss is 1.51743 , test loss is  1.51858\n",
      "iteration step  17600 , the accuracy is  0.9459 train loss is 1.51565 , test loss is  1.51676\n"
     ]
    },
    {
     "name": "stdout",
     "output_type": "stream",
     "text": [
      "iteration step  17800 , the accuracy is  0.9445 train loss is 1.51549 , test loss is  1.51699\n",
      "iteration step  18000 , the accuracy is  0.9427 train loss is 1.51628 , test loss is  1.51786\n",
      "iteration step  18200 , the accuracy is  0.9456 train loss is 1.51477 , test loss is  1.51598\n",
      "iteration step  18400 , the accuracy is  0.9451 train loss is 1.51557 , test loss is  1.51684\n",
      "iteration step  18600 , the accuracy is  0.945 train loss is 1.51473 , test loss is  1.5162\n",
      "iteration step  18800 , the accuracy is  0.9454 train loss is 1.51328 , test loss is  1.5151\n",
      "iteration step  19000 , the accuracy is  0.9459 train loss is 1.51359 , test loss is  1.51548\n",
      "iteration step  19200 , the accuracy is  0.9469 train loss is 1.51278 , test loss is  1.51491\n",
      "iteration step  19400 , the accuracy is  0.947 train loss is 1.51307 , test loss is  1.51494\n",
      "iteration step  19600 , the accuracy is  0.9469 train loss is 1.5128 , test loss is  1.51454\n",
      "iteration step  19800 , the accuracy is  0.9461 train loss is 1.5135 , test loss is  1.51533\n",
      "iteration step  20000 , the accuracy is  0.9472 train loss is 1.51206 , test loss is  1.51425\n",
      "iteration step  20200 , the accuracy is  0.9482 train loss is 1.51197 , test loss is  1.51365\n",
      "iteration step  20400 , the accuracy is  0.9472 train loss is 1.51252 , test loss is  1.51454\n",
      "iteration step  20600 , the accuracy is  0.9472 train loss is 1.51143 , test loss is  1.51392\n",
      "iteration step  20800 , the accuracy is  0.9476 train loss is 1.5112 , test loss is  1.51358\n",
      "iteration step  21000 , the accuracy is  0.9481 train loss is 1.51187 , test loss is  1.51381\n",
      "iteration step  21200 , the accuracy is  0.947 train loss is 1.51114 , test loss is  1.51323\n",
      "iteration step  21400 , the accuracy is  0.9491 train loss is 1.51053 , test loss is  1.51231\n",
      "iteration step  21600 , the accuracy is  0.9485 train loss is 1.51087 , test loss is  1.51305\n",
      "iteration step  21800 , the accuracy is  0.948 train loss is 1.51111 , test loss is  1.51325\n",
      "iteration step  22000 , the accuracy is  0.9492 train loss is 1.51039 , test loss is  1.51253\n",
      "iteration step  22200 , the accuracy is  0.9482 train loss is 1.51015 , test loss is  1.51269\n",
      "iteration step  22400 , the accuracy is  0.9479 train loss is 1.5097 , test loss is  1.51208\n",
      "iteration step  22600 , the accuracy is  0.9489 train loss is 1.50943 , test loss is  1.51196\n",
      "iteration step  22800 , the accuracy is  0.9485 train loss is 1.50917 , test loss is  1.5116\n",
      "iteration step  23000 , the accuracy is  0.9485 train loss is 1.50931 , test loss is  1.51198\n",
      "iteration step  23200 , the accuracy is  0.9492 train loss is 1.50925 , test loss is  1.51154\n",
      "iteration step  23400 , the accuracy is  0.9495 train loss is 1.50874 , test loss is  1.51176\n",
      "iteration step  23600 , the accuracy is  0.9482 train loss is 1.50956 , test loss is  1.51191\n",
      "iteration step  23800 , the accuracy is  0.9486 train loss is 1.5084 , test loss is  1.51099\n",
      "iteration step  24000 , the accuracy is  0.9493 train loss is 1.50806 , test loss is  1.51084\n",
      "iteration step  24200 , the accuracy is  0.9512 train loss is 1.5077 , test loss is  1.51003\n",
      "iteration step  24400 , the accuracy is  0.951 train loss is 1.50755 , test loss is  1.51068\n",
      "iteration step  24600 , the accuracy is  0.9496 train loss is 1.50794 , test loss is  1.51073\n",
      "iteration step  24800 , the accuracy is  0.9477 train loss is 1.50877 , test loss is  1.51114\n",
      "iteration step  25000 , the accuracy is  0.9507 train loss is 1.50686 , test loss is  1.51005\n",
      "iteration step  25200 , the accuracy is  0.9497 train loss is 1.50736 , test loss is  1.51093\n",
      "iteration step  25400 , the accuracy is  0.9521 train loss is 1.50665 , test loss is  1.50982\n",
      "iteration step  25600 , the accuracy is  0.9518 train loss is 1.50678 , test loss is  1.50991\n",
      "iteration step  25800 , the accuracy is  0.9514 train loss is 1.5068 , test loss is  1.50991\n",
      "iteration step  26000 , the accuracy is  0.9506 train loss is 1.50617 , test loss is  1.50961\n",
      "iteration step  26200 , the accuracy is  0.9516 train loss is 1.50646 , test loss is  1.50912\n",
      "iteration step  26400 , the accuracy is  0.951 train loss is 1.50616 , test loss is  1.5093\n",
      "iteration step  26600 , the accuracy is  0.9516 train loss is 1.50588 , test loss is  1.50879\n",
      "iteration step  26800 , the accuracy is  0.9527 train loss is 1.50504 , test loss is  1.50835\n",
      "iteration step  27000 , the accuracy is  0.9521 train loss is 1.50561 , test loss is  1.50908\n",
      "iteration step  27200 , the accuracy is  0.9504 train loss is 1.5052 , test loss is  1.50944\n",
      "iteration step  27400 , the accuracy is  0.9532 train loss is 1.50507 , test loss is  1.50821\n",
      "iteration step  27600 , the accuracy is  0.9527 train loss is 1.50494 , test loss is  1.50868\n",
      "iteration step  27800 , the accuracy is  0.9521 train loss is 1.5046 , test loss is  1.50842\n",
      "iteration step  28000 , the accuracy is  0.9524 train loss is 1.50413 , test loss is  1.50815\n",
      "iteration step  28200 , the accuracy is  0.9523 train loss is 1.50406 , test loss is  1.50755\n",
      "iteration step  28400 , the accuracy is  0.9536 train loss is 1.50396 , test loss is  1.50763\n",
      "iteration step  28600 , the accuracy is  0.9523 train loss is 1.50451 , test loss is  1.50825\n",
      "iteration step  28800 , the accuracy is  0.953 train loss is 1.50444 , test loss is  1.50772\n",
      "iteration step  29000 , the accuracy is  0.9538 train loss is 1.50431 , test loss is  1.50755\n",
      "iteration step  29200 , the accuracy is  0.954 train loss is 1.50317 , test loss is  1.50706\n",
      "iteration step  29400 , the accuracy is  0.9536 train loss is 1.50373 , test loss is  1.50699\n",
      "iteration step  29600 , the accuracy is  0.9541 train loss is 1.50424 , test loss is  1.50778\n",
      "iteration step  29800 , the accuracy is  0.9536 train loss is 1.50289 , test loss is  1.50665\n",
      "iteration step  30000 , the accuracy is  0.9538 train loss is 1.50246 , test loss is  1.50657\n",
      "iteration step  30200 , the accuracy is  0.9532 train loss is 1.5032 , test loss is  1.50717\n",
      "iteration step  30400 , the accuracy is  0.9545 train loss is 1.50252 , test loss is  1.50679\n",
      "iteration step  30600 , the accuracy is  0.9544 train loss is 1.50206 , test loss is  1.50627\n",
      "iteration step  30800 , the accuracy is  0.954 train loss is 1.50242 , test loss is  1.50629\n",
      "iteration step  31000 , the accuracy is  0.9544 train loss is 1.5016 , test loss is  1.50548\n",
      "iteration step  31200 , the accuracy is  0.9547 train loss is 1.50182 , test loss is  1.50607\n",
      "iteration step  31400 , the accuracy is  0.9531 train loss is 1.50243 , test loss is  1.50709\n",
      "iteration step  31600 , the accuracy is  0.9562 train loss is 1.50149 , test loss is  1.50584\n",
      "iteration step  31800 , the accuracy is  0.955 train loss is 1.50187 , test loss is  1.50578\n",
      "iteration step  32000 , the accuracy is  0.9559 train loss is 1.5024 , test loss is  1.50648\n",
      "iteration step  32200 , the accuracy is  0.9548 train loss is 1.50175 , test loss is  1.50606\n",
      "iteration step  32400 , the accuracy is  0.9561 train loss is 1.50084 , test loss is  1.50525\n",
      "iteration step  32600 , the accuracy is  0.9543 train loss is 1.50136 , test loss is  1.50566\n",
      "iteration step  32800 , the accuracy is  0.9555 train loss is 1.50082 , test loss is  1.50547\n",
      "iteration step  33000 , the accuracy is  0.9564 train loss is 1.50071 , test loss is  1.50514\n",
      "iteration step  33200 , the accuracy is  0.9561 train loss is 1.50071 , test loss is  1.50555\n",
      "iteration step  33400 , the accuracy is  0.9569 train loss is 1.50066 , test loss is  1.50489\n",
      "iteration step  33600 , the accuracy is  0.9584 train loss is 1.50054 , test loss is  1.50488\n",
      "iteration step  33800 , the accuracy is  0.9555 train loss is 1.50055 , test loss is  1.50494\n",
      "iteration step  34000 , the accuracy is  0.9557 train loss is 1.5004 , test loss is  1.50539\n",
      "iteration step  34200 , the accuracy is  0.9582 train loss is 1.50012 , test loss is  1.50453\n",
      "iteration step  34400 , the accuracy is  0.9566 train loss is 1.50033 , test loss is  1.50477\n",
      "iteration step  34600 , the accuracy is  0.9584 train loss is 1.49942 , test loss is  1.5037\n",
      "iteration step  34800 , the accuracy is  0.9584 train loss is 1.49922 , test loss is  1.50384\n",
      "iteration step  35000 , the accuracy is  0.9573 train loss is 1.49934 , test loss is  1.50383\n",
      "iteration step  35200 , the accuracy is  0.9572 train loss is 1.49973 , test loss is  1.5041\n"
     ]
    },
    {
     "name": "stdout",
     "output_type": "stream",
     "text": [
      "iteration step  35400 , the accuracy is  0.9585 train loss is 1.49915 , test loss is  1.50355\n",
      "iteration step  35600 , the accuracy is  0.9575 train loss is 1.49867 , test loss is  1.50361\n",
      "iteration step  35800 , the accuracy is  0.9577 train loss is 1.50028 , test loss is  1.50527\n",
      "iteration step  36000 , the accuracy is  0.9578 train loss is 1.49887 , test loss is  1.50408\n",
      "iteration step  36200 , the accuracy is  0.9577 train loss is 1.49861 , test loss is  1.50358\n",
      "iteration step  36400 , the accuracy is  0.958 train loss is 1.49896 , test loss is  1.50397\n",
      "iteration step  36600 , the accuracy is  0.9582 train loss is 1.49805 , test loss is  1.50323\n",
      "iteration step  36800 , the accuracy is  0.9573 train loss is 1.49848 , test loss is  1.50392\n",
      "iteration step  37000 , the accuracy is  0.9562 train loss is 1.49853 , test loss is  1.50407\n",
      "iteration step  37200 , the accuracy is  0.9586 train loss is 1.49813 , test loss is  1.50304\n",
      "iteration step  37400 , the accuracy is  0.9586 train loss is 1.4982 , test loss is  1.50291\n",
      "iteration step  37600 , the accuracy is  0.9569 train loss is 1.49817 , test loss is  1.5039\n",
      "iteration step  37800 , the accuracy is  0.9577 train loss is 1.49783 , test loss is  1.50268\n",
      "iteration step  38000 , the accuracy is  0.9588 train loss is 1.4977 , test loss is  1.50272\n",
      "iteration step  38200 , the accuracy is  0.959 train loss is 1.49773 , test loss is  1.50263\n",
      "iteration step  38400 , the accuracy is  0.9599 train loss is 1.4974 , test loss is  1.50221\n",
      "iteration step  38600 , the accuracy is  0.9587 train loss is 1.49802 , test loss is  1.50243\n",
      "iteration step  38800 , the accuracy is  0.9589 train loss is 1.49705 , test loss is  1.50198\n",
      "iteration step  39000 , the accuracy is  0.9583 train loss is 1.49696 , test loss is  1.50221\n",
      "iteration step  39200 , the accuracy is  0.9587 train loss is 1.49716 , test loss is  1.5017\n",
      "iteration step  39400 , the accuracy is  0.9597 train loss is 1.49693 , test loss is  1.50203\n",
      "iteration step  39600 , the accuracy is  0.9597 train loss is 1.49669 , test loss is  1.50207\n",
      "iteration step  39800 , the accuracy is  0.9607 train loss is 1.49655 , test loss is  1.50179\n",
      "Total time is 189.1813142299652 seconds\n"
     ]
    }
   ],
   "source": [
    "# Run the training step and evaluate every num_diagnostic steps\n",
    "\n",
    "sess = tf.InteractiveSession()\n",
    "sess.run(tf.global_variables_initializer())\n",
    "\n",
    "start = time.time()\n",
    "\n",
    "train_loss = []\n",
    "test_loss = []\n",
    "accuracy= []\n",
    "iter_num = []\n",
    "\n",
    "for i in range(num_iterations):\n",
    "    \n",
    "    ind = np.random.choice(X_train.shape[0], mini_batch)\n",
    "    sess.run((train_NN, loss_NN), feed_dict = {X_subset: X_train[ind,:], y_subset: y_train_base[ind,:]})\n",
    "    \n",
    "    if(i % num_diagnostic == 0):\n",
    "        iter_num.append(i)\n",
    "        train_loss.append(sess.run(loss_NN, feed_dict = {X_subset: X_train, y_subset: y_train_base}))\n",
    "        test_loss.append(sess.run(loss_NN, feed_dict = {X_subset: X_test, y_subset: y_test_base}))\n",
    "        accuracy.append(sess.run(eval_NN, feed_dict = {X_eval: X_test, y_eval: y_test_base}))\n",
    "        print('iteration step ', i, ', the accuracy is ', accuracy[-1], \\\n",
    "              'train loss is', train_loss[-1],', test loss is ', test_loss[-1])\n",
    "        \n",
    "end = time.time()\n",
    "\n",
    "# print the time needed for training and evaluation\n",
    "print('Total time is', end - start, 'seconds')\n"
   ]
  },
  {
   "cell_type": "code",
   "execution_count": 11,
   "metadata": {},
   "outputs": [
    {
     "data": {
      "image/png": "[encoded data removed]",
      "text/plain": [
       "<matplotlib.figure.Figure at 0x7f6c958a1080>"
      ]
     },
     "metadata": {},
     "output_type": "display_data"
    }
   ],
   "source": [
    "#Plot the loss and accuracy vs. iteration number\n",
    "\n",
    "import matplotlib.pyplot as plt\n",
    "plt.figure(figsize = (14,6))\n",
    "plt.rc('font', size= 12)\n",
    "plt.subplot(121)\n",
    "plt.plot(iter_num, train_loss, 'b')\n",
    "plt.plot(iter_num, test_loss, 'r')\n",
    "plt.legend(['train loss', 'test loss'])\n",
    "plt.xlabel('iteration num')\n",
    "plt.title('Loss vs. iteration number')\n",
    "plt.subplot(122)\n",
    "plt.plot(iter_num, accuracy)\n",
    "plt.xlabel('iteration num')\n",
    "plt.title('Accuracy vs. iteration number')\n",
    "plt.show()"
   ]
  },
  {
   "cell_type": "code",
   "execution_count": null,
   "metadata": {
    "collapsed": true
   },
   "outputs": [],
   "source": []
  }
 ],
 "metadata": {
  "kernelspec": {
   "display_name": "Python 3",
   "language": "python",
   "name": "python3"
  },
  "language_info": {
   "codemirror_mode": {
    "name": "ipython",
    "version": 3
   },
   "file_extension": ".py",
   "mimetype": "text/x-python",
   "name": "python",
   "nbconvert_exporter": "python",
   "pygments_lexer": "ipython3",
   "version": "3.6.1"
  }
 },
 "nbformat": 4,
 "nbformat_minor": 2
}

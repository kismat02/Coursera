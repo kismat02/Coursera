{
 "cells": [
  {
   "cell_type": "code",
   "execution_count": 1,
   "metadata": {},
   "outputs": [
    {
     "name": "stderr",
     "output_type": "stream",
     "text": [
      "Using TensorFlow backend.\n"
     ]
    },
    {
     "name": "stdout",
     "output_type": "stream",
     "text": [
      "(50000, 28, 28) (50000,)\n"
     ]
    },
    {
     "data": {
      "image/png": "[encoded data removed]",
      "text/plain": [
       "<matplotlib.figure.Figure at 0x7f721df7bac8>"
      ]
     },
     "metadata": {},
     "output_type": "display_data"
    }
   ],
   "source": [
    "from preprocessed_mnist import load_dataset\n",
    "X_train, y_train, X_val, y_val, X_test, y_test = load_dataset()\n",
    "print(X_train.shape, y_train.shape)\n",
    "import matplotlib.pyplot as plt\n",
    "%matplotlib inline\n",
    "plt.imshow(X_train[0], cmap=\"Greys\");"
   ]
  },
  {
   "cell_type": "code",
   "execution_count": 2,
   "metadata": {},
   "outputs": [
    {
     "name": "stdout",
     "output_type": "stream",
     "text": [
      "(50000, 28, 28) (50000, 10)\n",
      "(10000, 28, 28) (10000, 10)\n",
      "(10000, 28, 28) (10000, 10)\n"
     ]
    }
   ],
   "source": [
    "import keras\n",
    "\n",
    "# Create one-hot categories\n",
    "y_train_one_hot = keras.utils.to_categorical(y_train)\n",
    "y_val_one_hot = keras.utils.to_categorical(y_val)\n",
    "y_test_one_hot = keras.utils.to_categorical(y_test)\n",
    "\n",
    "print(X_train.shape, y_train_one_hot.shape)\n",
    "print(X_val.shape, y_val_one_hot.shape)\n",
    "print(X_test.shape, y_test_one_hot.shape)"
   ]
  },
  {
   "cell_type": "code",
   "execution_count": 3,
   "metadata": {
    "collapsed": true
   },
   "outputs": [],
   "source": [
    "import numpy as np\n",
    "import tensorflow as tf\n",
    "\n",
    "\n",
    "def batch_iter(x, y, batch_size=64):\n",
    "    data_len = len(x)\n",
    "    num_batch = 1 + int((data_len-1)/batch_size)\n",
    "    for i in range(num_batch):\n",
    "        a = i*batch_size\n",
    "        b = min(data_len, a+batch_size)\n",
    "        yield x[a:b], y[a:b]\n"
   ]
  },
  {
   "cell_type": "code",
   "execution_count": 4,
   "metadata": {
    "collapsed": true
   },
   "outputs": [],
   "source": [
    "# define MLP\n",
    "input_x = tf.placeholder(name='input_x',\n",
    "                        dtype=tf.float32,\n",
    "                        shape=[None, 28, 28])\n",
    "input_y = tf.placeholder(name='input_y',\n",
    "                        dtype=tf.float32,\n",
    "                        shape=[None, 10])\n",
    "\n",
    "flatten_input_x = tf.reshape(input_x,\n",
    "                            shape=[-1, 28*28])\n",
    "\n",
    "fc1 = tf.layers.dense(flatten_input_x, 700)\n",
    "fc1 = tf.nn.dropout(fc1, .5)\n",
    "fc1 = tf.nn.relu(fc1)\n",
    "\n",
    "fc2 = tf.layers.dense(fc1, 500)\n",
    "fc2 = tf.nn.dropout(fc2, .5)\n",
    "fc2 = tf.nn.relu(fc2)\n",
    "\n",
    "# fc3 = tf.layers.dense(fc2, 500)\n",
    "# fc3 = tf.nn.dropout(fc3, .5)\n",
    "# fc3 = tf.nn.relu(fc3)\n",
    "\n",
    "fc4 = tf.layers.dense(fc2, 250)\n",
    "fc4 = tf.nn.dropout(fc4, .5)\n",
    "fc4 = tf.nn.relu(fc4)\n",
    "\n",
    "logits = tf.layers.dense(fc4, 10)\n",
    "softmax = tf.nn.softmax(logits)\n",
    "predicted_y = tf.argmax(softmax, 1)\n",
    "correct_pred = tf.equal(tf.argmax(input_y, 1), tf.cast(predicted_y, tf.int64))\n",
    "cross_entropy = tf.nn.softmax_cross_entropy_with_logits(labels=input_y, logits=logits)\n",
    "\n",
    "\n",
    "loss = tf.reduce_mean(cross_entropy)\n",
    "accuracy = tf.reduce_mean(tf.cast(correct_pred, tf.float32))\n",
    "optim = tf.train.AdamOptimizer(learning_rate=0.001).minimize(loss)\n",
    "saver = tf.train.Saver()"
   ]
  },
  {
   "cell_type": "code",
   "execution_count": 5,
   "metadata": {
    "collapsed": true
   },
   "outputs": [],
   "source": [
    "from sklearn.metrics import roc_auc_score\n",
    "\n",
    "train_losses = []\n",
    "val_losses = []\n",
    "ckpt_path = './MLP-MNIST'\n",
    "def train():\n",
    "    total_iter = 0\n",
    "    last_improve_epoch = 0\n",
    "    best_val_acc = 0.0\n",
    "    for epoch in range(50):\n",
    "        print('epoch: {}'.format(epoch+1))\n",
    "        batchs = batch_iter(X_train, y_train_one_hot)\n",
    "        for x_batch, y_batch in batchs:\n",
    "            sess.run(optim, {input_x: x_batch, input_y: y_batch})\n",
    "            total_iter += 1\n",
    "        loss_train, acc_train = sess.run([loss, accuracy], {input_x:X_train, input_y:y_train_one_hot})\n",
    "        train_losses.append(loss_train)\n",
    "        loss_val, acc_val = sess.run([loss, accuracy], {input_x:X_val, input_y:y_val_one_hot})\n",
    "        val_losses.append(loss_val)\n",
    "        print(\"loss on val at epoch %i is: %.4f\" % (epoch, loss_val))\n",
    "        print(\"accuracy on val at epoch %i is: %.4f\" % (epoch, acc_val))\n",
    "        if acc_val > best_val_acc:\n",
    "            last_improve_epoch = epoch\n",
    "            best_val_acc = acc_val\n",
    "            saver.save(sess, ckpt_path)\n",
    "        elif epoch - last_improve_epoch > 10:\n",
    "            break\n",
    "        print('*'*50)\n"
   ]
  },
  {
   "cell_type": "code",
   "execution_count": 6,
   "metadata": {
    "collapsed": true
   },
   "outputs": [],
   "source": [
    "def test():\n",
    "    saver.restore(sess, ckpt_path)\n",
    "    loss_test = sess.run(loss, {input_x: X_test, input_y: y_test_one_hot})\n",
    "    print(\"loss on test: %.4f\" % (loss_test))\n",
    "    acc_test = sess.run(accuracy, {input_x: X_test, input_y: y_test_one_hot})\n",
    "    print(\"accuracy on test: %.4f\" % (acc_test))\n",
    "#     print(\"test auc:\", roc_auc_score(y_test_one_hot, sess.run(logits, {input_x:X_test})))"
   ]
  },
  {
   "cell_type": "code",
   "execution_count": 7,
   "metadata": {
    "scrolled": true
   },
   "outputs": [
    {
     "name": "stdout",
     "output_type": "stream",
     "text": [
      "\n",
      "\n",
      "training\n",
      "epoch: 1\n",
      "loss on val at epoch 0 is: 0.2151\n",
      "accuracy on val at epoch 0 is: 0.9369\n",
      "**************************************************\n",
      "epoch: 2\n",
      "loss on val at epoch 1 is: 0.1747\n",
      "accuracy on val at epoch 1 is: 0.9529\n",
      "**************************************************\n",
      "epoch: 3\n",
      "loss on val at epoch 2 is: 0.1597\n",
      "accuracy on val at epoch 2 is: 0.9579\n",
      "**************************************************\n",
      "epoch: 4\n",
      "loss on val at epoch 3 is: 0.1590\n",
      "accuracy on val at epoch 3 is: 0.9582\n",
      "**************************************************\n",
      "epoch: 5\n",
      "loss on val at epoch 4 is: 0.1442\n",
      "accuracy on val at epoch 4 is: 0.9633\n",
      "**************************************************\n",
      "epoch: 6\n",
      "loss on val at epoch 5 is: 0.1484\n",
      "accuracy on val at epoch 5 is: 0.9622\n",
      "**************************************************\n",
      "epoch: 7\n",
      "loss on val at epoch 6 is: 0.1560\n",
      "accuracy on val at epoch 6 is: 0.9620\n",
      "**************************************************\n",
      "epoch: 8\n",
      "loss on val at epoch 7 is: 0.1447\n",
      "accuracy on val at epoch 7 is: 0.9626\n",
      "**************************************************\n",
      "epoch: 9\n",
      "loss on val at epoch 8 is: 0.1322\n",
      "accuracy on val at epoch 8 is: 0.9670\n",
      "**************************************************\n",
      "epoch: 10\n",
      "loss on val at epoch 9 is: 0.1527\n",
      "accuracy on val at epoch 9 is: 0.9647\n",
      "**************************************************\n",
      "epoch: 11\n",
      "loss on val at epoch 10 is: 0.1235\n",
      "accuracy on val at epoch 10 is: 0.9698\n",
      "**************************************************\n",
      "epoch: 12\n",
      "loss on val at epoch 11 is: 0.1435\n",
      "accuracy on val at epoch 11 is: 0.9672\n",
      "**************************************************\n",
      "epoch: 13\n",
      "loss on val at epoch 12 is: 0.1285\n",
      "accuracy on val at epoch 12 is: 0.9691\n",
      "**************************************************\n",
      "epoch: 14\n",
      "loss on val at epoch 13 is: 0.1480\n",
      "accuracy on val at epoch 13 is: 0.9670\n",
      "**************************************************\n",
      "epoch: 15\n",
      "loss on val at epoch 14 is: 0.1412\n",
      "accuracy on val at epoch 14 is: 0.9696\n",
      "**************************************************\n",
      "epoch: 16\n",
      "loss on val at epoch 15 is: 0.1396\n",
      "accuracy on val at epoch 15 is: 0.9673\n",
      "**************************************************\n",
      "epoch: 17\n",
      "loss on val at epoch 16 is: 0.1541\n",
      "accuracy on val at epoch 16 is: 0.9642\n",
      "**************************************************\n",
      "epoch: 18\n",
      "loss on val at epoch 17 is: 0.1641\n",
      "accuracy on val at epoch 17 is: 0.9673\n",
      "**************************************************\n",
      "epoch: 19\n",
      "loss on val at epoch 18 is: 0.1503\n",
      "accuracy on val at epoch 18 is: 0.9693\n",
      "**************************************************\n",
      "epoch: 20\n",
      "loss on val at epoch 19 is: 0.1485\n",
      "accuracy on val at epoch 19 is: 0.9689\n",
      "**************************************************\n",
      "epoch: 21\n",
      "loss on val at epoch 20 is: 0.1475\n",
      "accuracy on val at epoch 20 is: 0.9673\n",
      "**************************************************\n",
      "epoch: 22\n",
      "loss on val at epoch 21 is: 0.1513\n",
      "accuracy on val at epoch 21 is: 0.9702\n",
      "**************************************************\n",
      "epoch: 23\n",
      "loss on val at epoch 22 is: 0.1495\n",
      "accuracy on val at epoch 22 is: 0.9676\n",
      "**************************************************\n",
      "epoch: 24\n",
      "loss on val at epoch 23 is: 0.1593\n",
      "accuracy on val at epoch 23 is: 0.9678\n",
      "**************************************************\n",
      "epoch: 25\n",
      "loss on val at epoch 24 is: 0.1828\n",
      "accuracy on val at epoch 24 is: 0.9675\n",
      "**************************************************\n",
      "epoch: 26\n",
      "loss on val at epoch 25 is: 0.1628\n",
      "accuracy on val at epoch 25 is: 0.9675\n",
      "**************************************************\n",
      "epoch: 27\n",
      "loss on val at epoch 26 is: 0.1564\n",
      "accuracy on val at epoch 26 is: 0.9693\n",
      "**************************************************\n",
      "epoch: 28\n",
      "loss on val at epoch 27 is: 0.1481\n",
      "accuracy on val at epoch 27 is: 0.9715\n",
      "**************************************************\n",
      "epoch: 29\n",
      "loss on val at epoch 28 is: 0.1557\n",
      "accuracy on val at epoch 28 is: 0.9730\n",
      "**************************************************\n",
      "epoch: 30\n",
      "loss on val at epoch 29 is: 0.1572\n",
      "accuracy on val at epoch 29 is: 0.9697\n",
      "**************************************************\n",
      "epoch: 31\n",
      "loss on val at epoch 30 is: 0.1768\n",
      "accuracy on val at epoch 30 is: 0.9704\n",
      "**************************************************\n",
      "epoch: 32\n",
      "loss on val at epoch 31 is: 0.1744\n",
      "accuracy on val at epoch 31 is: 0.9708\n",
      "**************************************************\n",
      "epoch: 33\n",
      "loss on val at epoch 32 is: 0.1600\n",
      "accuracy on val at epoch 32 is: 0.9703\n",
      "**************************************************\n",
      "epoch: 34\n",
      "loss on val at epoch 33 is: 0.1849\n",
      "accuracy on val at epoch 33 is: 0.9691\n",
      "**************************************************\n",
      "epoch: 35\n",
      "loss on val at epoch 34 is: 0.1697\n",
      "accuracy on val at epoch 34 is: 0.9695\n",
      "**************************************************\n",
      "epoch: 36\n",
      "loss on val at epoch 35 is: 0.1630\n",
      "accuracy on val at epoch 35 is: 0.9693\n",
      "**************************************************\n",
      "epoch: 37\n",
      "loss on val at epoch 36 is: 0.1662\n",
      "accuracy on val at epoch 36 is: 0.9718\n",
      "**************************************************\n",
      "epoch: 38\n",
      "loss on val at epoch 37 is: 0.1677\n",
      "accuracy on val at epoch 37 is: 0.9723\n",
      "**************************************************\n",
      "epoch: 39\n",
      "loss on val at epoch 38 is: 0.1640\n",
      "accuracy on val at epoch 38 is: 0.9699\n",
      "**************************************************\n",
      "epoch: 40\n",
      "loss on val at epoch 39 is: 0.1650\n",
      "accuracy on val at epoch 39 is: 0.9697\n",
      "\n",
      "\n",
      "testing\n",
      "INFO:tensorflow:Restoring parameters from ./MLP-MNIST\n",
      "loss on test: 0.1561\n",
      "accuracy on test: 0.9700\n"
     ]
    }
   ],
   "source": [
    "sess = tf.InteractiveSession()\n",
    "sess.run(tf.global_variables_initializer())\n",
    "print('\\n\\ntraining')\n",
    "train()\n",
    "print('\\n\\ntesting')\n",
    "test()\n",
    "sess.close()"
   ]
  },
  {
   "cell_type": "code",
   "execution_count": 8,
   "metadata": {},
   "outputs": [
    {
     "data": {
      "image/png": "[encoded data removed]",
      "text/plain": [
       "<matplotlib.figure.Figure at 0x7f7219d35fd0>"
      ]
     },
     "metadata": {},
     "output_type": "display_data"
    }
   ],
   "source": [
    "plt.plot(train_losses, label='train')\n",
    "plt.plot(val_losses, label='val')\n",
    "\n",
    "plt.ylabel('loss')\n",
    "plt.xlabel('epoch')\n",
    "\n",
    "plt.legend()\n",
    "plt.show()"
   ]
  }
 ],
 "metadata": {
  "kernelspec": {
   "display_name": "Python 3",
   "language": "python",
   "name": "python3"
  },
  "language_info": {
   "codemirror_mode": {
    "name": "ipython",
    "version": 3
   },
   "file_extension": ".py",
   "mimetype": "text/x-python",
   "name": "python",
   "nbconvert_exporter": "python",
   "pygments_lexer": "ipython3",
   "version": "3.6.1"
  }
 },
 "nbformat": 4,
 "nbformat_minor": 2
}

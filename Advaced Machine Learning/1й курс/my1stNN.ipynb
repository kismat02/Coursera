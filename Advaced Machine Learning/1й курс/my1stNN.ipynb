{
 "cells": [
  {
   "cell_type": "code",
   "execution_count": 1,
   "metadata": {
    "scrolled": true
   },
   "outputs": [
    {
     "name": "stderr",
     "output_type": "stream",
     "text": [
      "Using TensorFlow backend.\n"
     ]
    },
    {
     "name": "stdout",
     "output_type": "stream",
     "text": [
      "Downloading data from https://s3.amazonaws.com/img-datasets/mnist.npz\n",
      "11051008/11490434 [===========================>..] - ETA: 0s(50000, 28, 28) (50000,)\n"
     ]
    },
    {
     "data": {
      "image/png": "[encoded data removed]",
      "text/plain": [
       "<matplotlib.figure.Figure at 0x7fe558d290f0>"
      ]
     },
     "metadata": {},
     "output_type": "display_data"
    }
   ],
   "source": [
    "from preprocessed_mnist import load_dataset\n",
    "X_train, y_train, X_val, y_val, X_test, y_test = load_dataset()\n",
    "print(X_train.shape, y_train.shape)\n",
    "import matplotlib.pyplot as plt\n",
    "%matplotlib inline\n",
    "plt.imshow(X_train[0], cmap=\"Greys\");"
   ]
  },
  {
   "cell_type": "code",
   "execution_count": 11,
   "metadata": {
    "collapsed": true
   },
   "outputs": [],
   "source": [
    "import numpy as np"
   ]
  },
  {
   "cell_type": "code",
   "execution_count": 3,
   "metadata": {
    "collapsed": true
   },
   "outputs": [],
   "source": [
    "X_test, X_train = X_test.reshape([X_test.shape[0], 784]), X_train.reshape([X_train.shape[0], 784])"
   ]
  },
  {
   "cell_type": "code",
   "execution_count": 4,
   "metadata": {
    "collapsed": true
   },
   "outputs": [],
   "source": [
    "import tensorflow as tf"
   ]
  },
  {
   "cell_type": "code",
   "execution_count": 5,
   "metadata": {
    "collapsed": true
   },
   "outputs": [],
   "source": [
    "X = tf.placeholder(tf.float32, shape=(None, 784))\n",
    "y = tf.placeholder(tf.float32, shape=(None, 10))"
   ]
  },
  {
   "cell_type": "code",
   "execution_count": 6,
   "metadata": {
    "collapsed": true
   },
   "outputs": [],
   "source": [
    "w1 = tf.get_variable('w1', shape=[784, 128], initializer=tf.contrib.layers.xavier_initializer())\n",
    "b1 = tf.get_variable('b1', shape=[128], initializer=tf.zeros_initializer())\n",
    "w2 = tf.get_variable('w2', shape=[128, 128], initializer=tf.contrib.layers.xavier_initializer())\n",
    "b2 = tf.get_variable('b2', shape=[128], initializer=tf.zeros_initializer())\n",
    "w3 = tf.get_variable('w3', shape=[128, 10], initializer=tf.contrib.layers.xavier_initializer())\n",
    "b3 = tf.get_variable('b3', shape=[10], initializer=tf.zeros_initializer())"
   ]
  },
  {
   "cell_type": "code",
   "execution_count": 7,
   "metadata": {
    "collapsed": true
   },
   "outputs": [],
   "source": [
    "prob = tf.placeholder(tf.float32)"
   ]
  },
  {
   "cell_type": "code",
   "execution_count": 8,
   "metadata": {
    "collapsed": true
   },
   "outputs": [],
   "source": [
    "k1 = tf.matmul(X, w1)+b1\n",
    "m1 = tf.nn.relu(k1)\n",
    "m1 = tf.nn.dropout(m1, prob)\n",
    "k2 = tf.matmul(m1, w2)+b2\n",
    "m2 = tf.nn.relu(k2)\n",
    "m2 = tf.nn.dropout(m2, prob)\n",
    "k3 = tf.matmul(m2, w3)+b3\n",
    "m3 = tf.nn.sigmoid(k3)"
   ]
  },
  {
   "cell_type": "code",
   "execution_count": 10,
   "metadata": {
    "collapsed": true
   },
   "outputs": [],
   "source": [
    "loss = tf.reduce_mean(tf.nn.softmax_cross_entropy_with_logits(labels=y, logits=m3))\n",
    "start_lr = 0.0005\n",
    "step = tf.Variable(0, trainable=False)\n",
    "lr = tf.train.exponential_decay(start_lr, step, 100, 0.01, staircase=True)\n",
    "optimizer = tf.train.AdamOptimizer(lr).minimize(loss)"
   ]
  },
  {
   "cell_type": "code",
   "execution_count": 13,
   "metadata": {
    "collapsed": true
   },
   "outputs": [],
   "source": [
    "y_train = np.eye(10)[y_train]\n",
    "y_test = np.eye(10)[y_test]"
   ]
  },
  {
   "cell_type": "code",
   "execution_count": 16,
   "metadata": {
    "collapsed": true
   },
   "outputs": [],
   "source": [
    "init = tf.global_variables_initializer()"
   ]
  },
  {
   "cell_type": "code",
   "execution_count": 20,
   "metadata": {},
   "outputs": [
    {
     "data": {
      "image/png": "[encoded data removed]",
      "text/plain": [
       "<matplotlib.figure.Figure at 0x7fe51a8b6400>"
      ]
     },
     "metadata": {},
     "output_type": "display_data"
    },
    {
     "name": "stdout",
     "output_type": "stream",
     "text": [
      "Train Accuracy: 0.99404\n",
      "Test Accuracy: 0.9789\n"
     ]
    }
   ],
   "source": [
    "batch_size = 500\n",
    "with tf.Session() as sess:\n",
    "    sess.run(init)\n",
    "    train_loss = []\n",
    "    test_loss = []\n",
    "    for epoch in range(100):\n",
    "        for i in range(0, 50000, batch_size):\n",
    "            sess.run(optimizer, feed_dict={X:X_train[i:i+batch_size], y:y_train[i: i+batch_size], prob : 0.65})\n",
    "        train_loss.append(sess.run(loss, feed_dict={X:X_train, y:y_train, prob : 1}))\n",
    "        test_loss.append(sess.run(loss, feed_dict={X:X_test, y:y_test, prob : 1}))\n",
    "        \n",
    "    iter = list(np.arange(100))\n",
    "    plt.plot(iter, train_loss, label='Train')\n",
    "    plt.plot(iter, test_loss, label='Test')\n",
    "    plt.ylabel('train cost')\n",
    "    plt.xlabel('iterations')\n",
    "    plt.show()\n",
    "    \n",
    "    # Correct predictions\n",
    "    predict_op = tf.argmax(k3, 1)\n",
    "    correct_prediction = tf.equal(predict_op, tf.argmax(y, 1))\n",
    "\n",
    "    # Accuracy on test data\n",
    "    accuracy = tf.reduce_mean(tf.cast(correct_prediction, \"float\"))\n",
    "    train_accuracy = accuracy.eval({X: X_train, y: y_train, prob : 1})\n",
    "    test_accuracy = accuracy.eval({X: X_test, y: y_test, prob : 1})\n",
    "    print(\"Train Accuracy:\", train_accuracy)\n",
    "    print(\"Test Accuracy:\", test_accuracy)"
   ]
  },
  {
   "cell_type": "code",
   "execution_count": null,
   "metadata": {
    "collapsed": true
   },
   "outputs": [],
   "source": []
  }
 ],
 "metadata": {
  "kernelspec": {
   "display_name": "Python 3",
   "language": "python",
   "name": "python3"
  },
  "language_info": {
   "codemirror_mode": {
    "name": "ipython",
    "version": 3
   },
   "file_extension": ".py",
   "mimetype": "text/x-python",
   "name": "python",
   "nbconvert_exporter": "python",
   "pygments_lexer": "ipython3",
   "version": "3.6.1"
  }
 },
 "nbformat": 4,
 "nbformat_minor": 2
}

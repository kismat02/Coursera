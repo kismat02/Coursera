{
 "cells": [
  {
   "cell_type": "code",
   "execution_count": 1,
   "metadata": {},
   "outputs": [
    {
     "name": "stderr",
     "output_type": "stream",
     "text": [
      "Using TensorFlow backend.\n"
     ]
    },
    {
     "name": "stdout",
     "output_type": "stream",
     "text": [
      "Downloading data from https://s3.amazonaws.com/img-datasets/mnist.npz\n",
      "10297344/11490434 [=========================>....] - ETA: 0s(50000, 28, 28) (50000,)\n"
     ]
    },
    {
     "data": {
      "image/png": "[encoded data removed]",
      "text/plain": [
       "<matplotlib.figure.Figure at 0x7fb8705e9320>"
      ]
     },
     "metadata": {},
     "output_type": "display_data"
    }
   ],
   "source": [
    "from preprocessed_mnist import load_dataset\n",
    "X_train, y_train, X_val, y_val, X_test, y_test = load_dataset()\n",
    "print(X_train.shape, y_train.shape)\n",
    "import matplotlib.pyplot as plt\n",
    "%matplotlib inline\n",
    "plt.imshow(X_train[0], cmap=\"Greys\");"
   ]
  },
  {
   "cell_type": "code",
   "execution_count": 59,
   "metadata": {},
   "outputs": [],
   "source": [
    "import tensorflow as tf\n",
    "\n",
    "weights = {\n",
    "    'h1': tf.Variable(tf.random_normal([784, 200])),\n",
    "    'out': tf.Variable(tf.random_normal([200, 10]))\n",
    "}\n",
    "biases = {\n",
    "    'b1': tf.Variable(tf.random_normal([200])),\n",
    "    'out': tf.Variable(tf.random_normal([10]))\n",
    "}"
   ]
  },
  {
   "cell_type": "code",
   "execution_count": 60,
   "metadata": {},
   "outputs": [],
   "source": [
    "X = tf.placeholder(tf.float32, [None, 28, 28])\n",
    "X_reshaped = tf.contrib.layers.flatten(X)\n",
    "y = tf.placeholder(tf.int64, [None])\n",
    "y_onehot = tf.one_hot(y,10)"
   ]
  },
  {
   "cell_type": "code",
   "execution_count": 61,
   "metadata": {},
   "outputs": [],
   "source": [
    "\n",
    "hidden = tf.nn.relu(tf.add(tf.matmul(X_reshaped, weights['h1']), biases['b1']))\n",
    "output = tf.add(tf.matmul(hidden, weights['out']), biases['out'])\n",
    "logits = output\n",
    "pred = tf.nn.softmax(logits)\n",
    "\n",
    "correct_prediction = tf.equal(y, tf.argmax(pred,1))\n",
    "accuracy = tf.reduce_mean(tf.cast(correct_prediction, tf.float32))\n"
   ]
  },
  {
   "cell_type": "code",
   "execution_count": 62,
   "metadata": {},
   "outputs": [],
   "source": [
    "loss = tf.reduce_mean(tf.nn.softmax_cross_entropy_with_logits(logits=logits, labels=y_onehot))\n",
    "optimizer = tf.train.AdamOptimizer(learning_rate=0.05)\n",
    "train = optimizer.minimize(loss)"
   ]
  },
  {
   "cell_type": "code",
   "execution_count": 63,
   "metadata": {},
   "outputs": [
    {
     "name": "stdout",
     "output_type": "stream",
     "text": [
      "loss at iter 0:94.5988\n",
      "test accuracy 0.2736\n",
      "loss at iter 1:66.8553\n",
      "test accuracy 0.4518\n",
      "loss at iter 2:53.2069\n",
      "test accuracy 0.6142\n",
      "loss at iter 3:45.8263\n",
      "test accuracy 0.6487\n",
      "loss at iter 4:33.5024\n",
      "test accuracy 0.7154\n",
      "loss at iter 5:25.5159\n",
      "test accuracy 0.7448\n",
      "loss at iter 6:19.3198\n",
      "test accuracy 0.7489\n",
      "loss at iter 7:13.4940\n",
      "test accuracy 0.7806\n",
      "loss at iter 8:10.7444\n",
      "test accuracy 0.8028\n",
      "loss at iter 9:12.6862\n",
      "test accuracy 0.7844\n",
      "loss at iter 10:15.1281\n",
      "test accuracy 0.7512\n",
      "loss at iter 11:12.8289\n",
      "test accuracy 0.7754\n",
      "loss at iter 12:9.0548\n",
      "test accuracy 0.8211\n",
      "loss at iter 13:6.9881\n",
      "test accuracy 0.8499\n",
      "loss at iter 14:6.3769\n",
      "test accuracy 0.8606\n",
      "loss at iter 15:6.4400\n",
      "test accuracy 0.8606\n",
      "loss at iter 16:6.6803\n",
      "test accuracy 0.8611\n",
      "loss at iter 17:6.8217\n",
      "test accuracy 0.8574\n",
      "loss at iter 18:6.7350\n",
      "test accuracy 0.8558\n",
      "loss at iter 19:6.4038\n",
      "test accuracy 0.8591\n",
      "loss at iter 20:5.9111\n",
      "test accuracy 0.8647\n",
      "loss at iter 21:5.3688\n",
      "test accuracy 0.8692\n",
      "loss at iter 22:4.8716\n",
      "test accuracy 0.8747\n",
      "loss at iter 23:4.4792\n",
      "test accuracy 0.8804\n",
      "loss at iter 24:4.2100\n",
      "test accuracy 0.8808\n",
      "loss at iter 25:4.0713\n",
      "test accuracy 0.8812\n",
      "loss at iter 26:3.9892\n",
      "test accuracy 0.8797\n",
      "loss at iter 27:3.8360\n",
      "test accuracy 0.8808\n",
      "loss at iter 28:3.6187\n",
      "test accuracy 0.8828\n",
      "loss at iter 29:3.3992\n",
      "test accuracy 0.8860\n",
      "loss at iter 30:3.2185\n",
      "test accuracy 0.8896\n",
      "loss at iter 31:3.0782\n",
      "test accuracy 0.8914\n",
      "loss at iter 32:2.9671\n",
      "test accuracy 0.8939\n",
      "loss at iter 33:2.8727\n",
      "test accuracy 0.8946\n",
      "loss at iter 34:2.7842\n",
      "test accuracy 0.8970\n",
      "loss at iter 35:2.6943\n",
      "test accuracy 0.8975\n",
      "loss at iter 36:2.6013\n",
      "test accuracy 0.8987\n",
      "loss at iter 37:2.5073\n",
      "test accuracy 0.9002\n",
      "loss at iter 38:2.4100\n",
      "test accuracy 0.9023\n",
      "loss at iter 39:2.3121\n",
      "test accuracy 0.9023\n",
      "loss at iter 40:2.2208\n",
      "test accuracy 0.9026\n",
      "loss at iter 41:2.1406\n",
      "test accuracy 0.9020\n",
      "loss at iter 42:2.0740\n",
      "test accuracy 0.9013\n",
      "loss at iter 43:2.0155\n",
      "test accuracy 0.9010\n",
      "loss at iter 44:1.9603\n",
      "test accuracy 0.9010\n",
      "loss at iter 45:1.9058\n",
      "test accuracy 0.9013\n",
      "loss at iter 46:1.8508\n",
      "test accuracy 0.9015\n",
      "loss at iter 47:1.7954\n",
      "test accuracy 0.9021\n",
      "loss at iter 48:1.7404\n",
      "test accuracy 0.9012\n",
      "loss at iter 49:1.6878\n",
      "test accuracy 0.9026\n"
     ]
    }
   ],
   "source": [
    "from sklearn.metrics import roc_auc_score\n",
    "\n",
    "s = tf.Session()\n",
    "s.run(tf.global_variables_initializer())\n",
    "for i in range(50):\n",
    "    s.run([train,loss], {X: X_train, y: y_train})\n",
    "    loss_i = s.run(loss, {X: X_train, y: y_train})\n",
    "    print(\"loss at iter %i:%.4f\" % (i, loss_i))\n",
    "    print(\"test accuracy %.4f\"% s.run(accuracy, {X: X_test, y: y_test}))\n",
    "    #print(\"test auc:\", roc_auc_score(y_test, s.run(predicted_y, {X:X_test})))"
   ]
  },
  {
   "cell_type": "code",
   "execution_count": null,
   "metadata": {
    "collapsed": true
   },
   "outputs": [],
   "source": []
  }
 ],
 "metadata": {
  "kernelspec": {
   "display_name": "Python 3",
   "language": "python",
   "name": "python3"
  },
  "language_info": {
   "codemirror_mode": {
    "name": "ipython",
    "version": 3
   },
   "file_extension": ".py",
   "mimetype": "text/x-python",
   "name": "python",
   "nbconvert_exporter": "python",
   "pygments_lexer": "ipython3",
   "version": "3.6.0"
  }
 },
 "nbformat": 4,
 "nbformat_minor": 2
}

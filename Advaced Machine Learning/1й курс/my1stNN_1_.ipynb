{
 "cells": [
  {
   "cell_type": "code",
   "execution_count": 1,
   "metadata": {},
   "outputs": [
    {
     "name": "stderr",
     "output_type": "stream",
     "text": [
      "Using TensorFlow backend.\n"
     ]
    },
    {
     "name": "stdout",
     "output_type": "stream",
     "text": [
      "Downloading data from https://s3.amazonaws.com/img-datasets/mnist.npz\n",
      "11354112/11490434 [============================>.] - ETA: 0s(50000, 28, 28) (50000,)\n"
     ]
    },
    {
     "data": {
      "image/png": "[encoded data removed]",
      "text/plain": [
       "<matplotlib.figure.Figure at 0x7fb39bde9ef0>"
      ]
     },
     "metadata": {},
     "output_type": "display_data"
    }
   ],
   "source": [
    "from preprocessed_mnist import load_dataset\n",
    "X_train, y_train, X_val, y_val, X_test, y_test = load_dataset()\n",
    "print(X_train.shape, y_train.shape)\n",
    "import matplotlib.pyplot as plt\n",
    "%matplotlib inline\n",
    "plt.imshow(X_train[0], cmap=\"Greys\");"
   ]
  },
  {
   "cell_type": "code",
   "execution_count": 14,
   "metadata": {},
   "outputs": [
    {
     "name": "stdout",
     "output_type": "stream",
     "text": [
      "step 0, test accuracy 0.0994\n",
      "step 1000, test accuracy 0.9351\n",
      "step 2000, test accuracy 0.9483\n",
      "step 3000, test accuracy 0.9497\n",
      "step 4000, test accuracy 0.9629\n",
      "step 5000, test accuracy 0.966\n",
      "step 6000, test accuracy 0.9641\n",
      "step 7000, test accuracy 0.9706\n",
      "step 8000, test accuracy 0.9677\n",
      "step 9000, test accuracy 0.9706\n",
      "step 10000, test accuracy 0.9714\n",
      "step 11000, test accuracy 0.974\n",
      "step 12000, test accuracy 0.9734\n",
      "step 13000, test accuracy 0.9748\n",
      "step 14000, test accuracy 0.9728\n",
      "step 15000, test accuracy 0.9775\n",
      "step 16000, test accuracy 0.9756\n",
      "step 17000, test accuracy 0.9742\n",
      "step 18000, test accuracy 0.9766\n",
      "step 19000, test accuracy 0.9775\n",
      "step 20000, test accuracy 0.975\n",
      "step 21000, test accuracy 0.9786\n",
      "step 22000, test accuracy 0.9778\n",
      "step 23000, test accuracy 0.9774\n",
      "step 24000, test accuracy 0.979\n",
      "step 25000, test accuracy 0.9771\n",
      "step 26000, test accuracy 0.9784\n",
      "step 27000, test accuracy 0.979\n",
      "step 28000, test accuracy 0.9776\n",
      "step 29000, test accuracy 0.9777\n",
      "step 30000, test accuracy 0.9774\n",
      "step 31000, test accuracy 0.9779\n",
      "step 32000, test accuracy 0.9794\n",
      "step 33000, test accuracy 0.9787\n",
      "step 34000, test accuracy 0.9791\n",
      "step 35000, test accuracy 0.9795\n",
      "step 36000, test accuracy 0.9795\n",
      "step 37000, test accuracy 0.9789\n",
      "step 38000, test accuracy 0.979\n",
      "step 39000, test accuracy 0.9796\n",
      "step 40000, test accuracy 0.9803\n",
      "step 41000, test accuracy 0.9806\n",
      "step 42000, test accuracy 0.9814\n",
      "step 43000, test accuracy 0.9798\n",
      "step 44000, test accuracy 0.9809\n",
      "step 45000, test accuracy 0.9805\n"
     ]
    },
    {
     "data": {
      "text/plain": [
       "<matplotlib.legend.Legend at 0x7fb32646f908>"
      ]
     },
     "execution_count": 14,
     "metadata": {},
     "output_type": "execute_result"
    },
    {
     "data": {
      "image/png": "[encoded data removed]",
      "text/plain": [
       "<matplotlib.figure.Figure at 0x7fb3265bfdd8>"
      ]
     },
     "metadata": {},
     "output_type": "display_data"
    },
    {
     "data": {
      "image/png": "[encoded data removed]",
      "text/plain": [
       "<matplotlib.figure.Figure at 0x7fb326434cf8>"
      ]
     },
     "metadata": {},
     "output_type": "display_data"
    }
   ],
   "source": [
    "inputSize = X_train.shape[1]*X_train.shape[2]\n",
    "hidden1 = 100\n",
    "hidden2 = 80\n",
    "hidden3 = 40\n",
    "hidden4 = 10\n",
    "batchSize = 50\n",
    "\n",
    "import tensorflow as tf\n",
    "import numpy as np\n",
    "\n",
    "def weight_variable(shape):\n",
    "  initial = tf.truncated_normal(shape, stddev=0.2)\n",
    "  return tf.Variable(initial)\n",
    "\n",
    "def bias_variable(shape):\n",
    "  initial = tf.constant(0.1, shape=shape)\n",
    "  return tf.Variable(initial)\n",
    "\n",
    "s = tf.InteractiveSession()\n",
    "\n",
    "# placeholders and variables\n",
    "x = tf.placeholder(tf.float32, [None, inputSize])\n",
    "W1 = weight_variable([inputSize, hidden1])\n",
    "b1 = bias_variable([hidden1])\n",
    "W2 = weight_variable([hidden1, hidden2])\n",
    "b2 = bias_variable([hidden2])\n",
    "W3 = weight_variable([hidden2, hidden3])\n",
    "b3 = bias_variable([hidden3])\n",
    "W4 = weight_variable([hidden3, hidden4])\n",
    "b4 = bias_variable([hidden4])\n",
    "\n",
    "y_ = tf.placeholder(tf.int32, [None])\n",
    "\n",
    "keep_prob = tf.placeholder(tf.float32)\n",
    "\n",
    "global_step = tf.Variable(0, trainable=False)\n",
    "\n",
    "s.run(tf.global_variables_initializer())\n",
    "\n",
    "# model\n",
    "nonlin1 = tf.nn.elu(tf.matmul(x, W1)+b1)\n",
    "nonlin1_drop = tf.nn.dropout(nonlin1, keep_prob)\n",
    "nonlin2 = tf.nn.elu(tf.matmul(nonlin1_drop, W2)+b2)\n",
    "#nonlin2_drop = tf.nn.dropout(nonlin2, keep_prob)\n",
    "nonlin3 = tf.nn.elu(tf.matmul(nonlin2, W3)+b3)\n",
    "#nonlin3_drop = tf.nn.dropout(nonlin3, keep_prob)\n",
    "y = tf.matmul(nonlin3, W4)+b4\n",
    "\n",
    "# loss function\n",
    "oneHotLabels = tf.one_hot(tf.cast(y_, tf.uint8), 10)\n",
    "cross_entropy = tf.reduce_mean(tf.nn.softmax_cross_entropy_with_logits(labels=oneHotLabels, logits=y))\n",
    "\n",
    "starter_learning_rate = 0.1\n",
    "learning_rate = tf.train.exponential_decay(starter_learning_rate, global_step, 2000, 0.96, staircase=True)\n",
    "\n",
    "#training\n",
    "train_step = tf.train.GradientDescentOptimizer(learning_rate).minimize(cross_entropy, global_step=global_step)\n",
    "correct_prediction = tf.equal(tf.cast(tf.argmax(y,1), tf.int32), y_)\n",
    "accuracy = tf.reduce_mean(tf.cast(correct_prediction, tf.float32))\n",
    "\n",
    "\n",
    "###############################################\n",
    "\n",
    "X_train_flatten = X_train.reshape(X_train.shape[0], -1)\n",
    "X_test_flatten = X_test.reshape(X_test.shape[0], -1)\n",
    "y_train = y_train.astype(int)\n",
    "y_test = y_test.astype(int)\n",
    "\n",
    "# for plotting\n",
    "iterations = []\n",
    "training_loss = []\n",
    "testing_loss = []\n",
    "testing_accuracy = []\n",
    "\n",
    "for i in range(45001):\n",
    "    # random samples\n",
    "    permutation=np.random.permutation(y_train.shape[0])\n",
    "    permutation=permutation[0:batchSize]\n",
    "    batch=[X_train_flatten[permutation], y_train[permutation]]\n",
    "    \n",
    "    _, loss = s.run([train_step, cross_entropy], feed_dict={x:batch[0], y_:batch[1], keep_prob:0.7})\n",
    "\n",
    "    # store numbers for plotting\n",
    "    if i%1000 == 0:\n",
    "        testloss = s.run(cross_entropy, feed_dict={x: X_test_flatten, y_: y_test, keep_prob:1})\n",
    "        acc = accuracy.eval(feed_dict={x: X_test_flatten, y_: y_test, keep_prob:1})\n",
    "        iterations.append(i)\n",
    "        training_loss.append(loss)\n",
    "        testing_loss.append(testloss)\n",
    "        testing_accuracy.append(acc)\n",
    "    \n",
    "    # print progress\n",
    "    if i%1000 == 0:\n",
    "        #train_accuracy = accuracy.eval(feed_dict={x:batch[0], y_:batch[1], keep_prob:1})\n",
    "        print('step %d, test accuracy %g' % (i, acc))\n",
    "\n",
    "# plot losses\n",
    "import matplotlib.pyplot as plt\n",
    "%matplotlib inline\n",
    "\n",
    "plt.figure(0)\n",
    "plt.plot(iterations, training_loss, label='training_loss')\n",
    "plt.plot(iterations, testing_loss, label='testing_loss')\n",
    "plt.grid()\n",
    "plt.legend()\n",
    "\n",
    "plt.figure(1)\n",
    "plt.plot(iterations, testing_accuracy, label='testing_accuracy')\n",
    "plt.grid()\n",
    "plt.legend()"
   ]
  },
  {
   "cell_type": "code",
   "execution_count": null,
   "metadata": {
    "collapsed": true
   },
   "outputs": [],
   "source": []
  },
  {
   "cell_type": "code",
   "execution_count": null,
   "metadata": {
    "collapsed": true
   },
   "outputs": [],
   "source": []
  }
 ],
 "metadata": {
  "kernelspec": {
   "display_name": "Python 3",
   "language": "python",
   "name": "python3"
  },
  "language_info": {
   "codemirror_mode": {
    "name": "ipython",
    "version": 3
   },
   "file_extension": ".py",
   "mimetype": "text/x-python",
   "name": "python",
   "nbconvert_exporter": "python",
   "pygments_lexer": "ipython3",
   "version": "3.6.0"
  }
 },
 "nbformat": 4,
 "nbformat_minor": 2
}
